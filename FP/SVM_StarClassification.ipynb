{
  "cells": [
    {
      "cell_type": "code",
      "execution_count": 1,
      "metadata": {
        "id": "j6R42tm_uIqV"
      },
      "outputs": [],
      "source": [
        "import numpy as np \n",
        "import pandas as pd \n",
        "import matplotlib.pyplot as plt \n",
        "from sklearn.tree import DecisionTreeClassifier ,plot_tree \n",
        "from sklearn.metrics import accuracy_score \n",
        "from sklearn.model_selection import train_test_split\n",
        "from sklearn.neighbors import KNeighborsClassifier \n",
        "from sklearn.linear_model import LogisticRegression\n",
        "from sklearn.ensemble import RandomForestClassifier \n",
        "from sklearn.pipeline import Pipeline \n",
        "from sklearn.preprocessing import StandardScaler \n",
        "from sklearn.model_selection import cross_validate \n",
        "\n",
        "import os\n",
        "for dirname, _, filenames in os.walk('/FP'):\n",
        "    for filename in filenames:\n",
        "        print(os.path.join(dirname, filename))"
      ]
    },
    {
      "cell_type": "code",
      "execution_count": 2,
      "metadata": {
        "colab": {
          "base_uri": "https://localhost:8080/",
          "height": 206
        },
        "id": "m71YhoVvuV4V",
        "outputId": "29cc1525-3892-47b2-b3fb-4e5b2e8fc6ff"
      },
      "outputs": [
        {
          "data": {
            "text/html": [
              "<div>\n",
              "<style scoped>\n",
              "    .dataframe tbody tr th:only-of-type {\n",
              "        vertical-align: middle;\n",
              "    }\n",
              "\n",
              "    .dataframe tbody tr th {\n",
              "        vertical-align: top;\n",
              "    }\n",
              "\n",
              "    .dataframe thead th {\n",
              "        text-align: right;\n",
              "    }\n",
              "</style>\n",
              "<table border=\"1\" class=\"dataframe\">\n",
              "  <thead>\n",
              "    <tr style=\"text-align: right;\">\n",
              "      <th></th>\n",
              "      <th>Temperature (K)</th>\n",
              "      <th>Luminosity(L/Lo)</th>\n",
              "      <th>Radius(R/Ro)</th>\n",
              "      <th>Absolute magnitude(Mv)</th>\n",
              "      <th>Star type</th>\n",
              "      <th>Star color</th>\n",
              "      <th>Spectral Class</th>\n",
              "    </tr>\n",
              "  </thead>\n",
              "  <tbody>\n",
              "    <tr>\n",
              "      <th>0</th>\n",
              "      <td>3068</td>\n",
              "      <td>0.002400</td>\n",
              "      <td>0.1700</td>\n",
              "      <td>16.12</td>\n",
              "      <td>0</td>\n",
              "      <td>Red</td>\n",
              "      <td>M</td>\n",
              "    </tr>\n",
              "    <tr>\n",
              "      <th>1</th>\n",
              "      <td>3042</td>\n",
              "      <td>0.000500</td>\n",
              "      <td>0.1542</td>\n",
              "      <td>16.60</td>\n",
              "      <td>0</td>\n",
              "      <td>Red</td>\n",
              "      <td>M</td>\n",
              "    </tr>\n",
              "    <tr>\n",
              "      <th>2</th>\n",
              "      <td>2600</td>\n",
              "      <td>0.000300</td>\n",
              "      <td>0.1020</td>\n",
              "      <td>18.70</td>\n",
              "      <td>0</td>\n",
              "      <td>Red</td>\n",
              "      <td>M</td>\n",
              "    </tr>\n",
              "    <tr>\n",
              "      <th>3</th>\n",
              "      <td>2800</td>\n",
              "      <td>0.000200</td>\n",
              "      <td>0.1600</td>\n",
              "      <td>16.65</td>\n",
              "      <td>0</td>\n",
              "      <td>Red</td>\n",
              "      <td>M</td>\n",
              "    </tr>\n",
              "    <tr>\n",
              "      <th>4</th>\n",
              "      <td>1939</td>\n",
              "      <td>0.000138</td>\n",
              "      <td>0.1030</td>\n",
              "      <td>20.06</td>\n",
              "      <td>0</td>\n",
              "      <td>Red</td>\n",
              "      <td>M</td>\n",
              "    </tr>\n",
              "  </tbody>\n",
              "</table>\n",
              "</div>"
            ],
            "text/plain": [
              "   Temperature (K)  Luminosity(L/Lo)  Radius(R/Ro)  Absolute magnitude(Mv)  \\\n",
              "0             3068          0.002400        0.1700                   16.12   \n",
              "1             3042          0.000500        0.1542                   16.60   \n",
              "2             2600          0.000300        0.1020                   18.70   \n",
              "3             2800          0.000200        0.1600                   16.65   \n",
              "4             1939          0.000138        0.1030                   20.06   \n",
              "\n",
              "   Star type Star color Spectral Class  \n",
              "0          0        Red              M  \n",
              "1          0        Red              M  \n",
              "2          0        Red              M  \n",
              "3          0        Red              M  \n",
              "4          0        Red              M  "
            ]
          },
          "execution_count": 2,
          "metadata": {},
          "output_type": "execute_result"
        }
      ],
      "source": [
        "train_file_path = './6_class_csv.csv'\n",
        "train_data = pd.read_csv(train_file_path)\n",
        "train_data.head()"
      ]
    },
    {
      "cell_type": "code",
      "execution_count": 3,
      "metadata": {
        "colab": {
          "base_uri": "https://localhost:8080/"
        },
        "id": "C-BaMNUtxCYT",
        "outputId": "fc2e935a-0f64-45a6-c398-390b3381ae9c"
      },
      "outputs": [
        {
          "data": {
            "text/plain": [
              "Temperature (K)           0\n",
              "Luminosity(L/Lo)          0\n",
              "Radius(R/Ro)              0\n",
              "Absolute magnitude(Mv)    0\n",
              "Star type                 0\n",
              "Star color                0\n",
              "Spectral Class            0\n",
              "dtype: int64"
            ]
          },
          "execution_count": 3,
          "metadata": {},
          "output_type": "execute_result"
        }
      ],
      "source": [
        "train_data.isna().sum()"
      ]
    },
    {
      "cell_type": "markdown",
      "metadata": {
        "id": "JKPa10hrxQPZ"
      },
      "source": [
        "# Preprocessing Data"
      ]
    },
    {
      "cell_type": "code",
      "execution_count": 4,
      "metadata": {
        "id": "aoXAc7K0xJcn"
      },
      "outputs": [],
      "source": [
        "def preprocess_inputs(df):\n",
        "    df = df.copy()\n",
        "    \n",
        "    # Fix Star color overlapping\n",
        "    color_mapping = {\n",
        "        'Blue ': 'Blue',\n",
        "        'Blue white': 'Blue White',\n",
        "        'Blue-white': 'Blue White',\n",
        "        'Blue white ': 'Blue White',\n",
        "        'Blue-White': 'Blue White',\n",
        "        'white': 'White',\n",
        "        'yellow-white': 'Yellowish White',\n",
        "        'White-Yellow': 'Yellowish White',\n",
        "        'yellowish': 'Yellowish'\n",
        "    }\n",
        "    df['Star color'] = df['Star color'].replace(color_mapping)\n",
        "    \n",
        "    # One-hot encoding\n",
        "    df = pd.concat([df, pd.get_dummies(df['Star color'], prefix='Color')], axis=1)\n",
        "    df = pd.concat([df, pd.get_dummies(df['Spectral Class'], prefix='Class')], axis=1)\n",
        "    df = df.drop(['Star color', 'Spectral Class'], axis=1)\n",
        "    \n",
        "    # Split X and y\n",
        "    X = df.drop('Star type', axis=1)\n",
        "    y = df['Star type']\n",
        "    \n",
        "    # Train-test split (7:3)\n",
        "    X_train, X_test, y_train, y_test = train_test_split(X, y, train_size=0.7, shuffle=True, random_state=0)\n",
        "\n",
        "    # Scale X\n",
        "    scaler = StandardScaler()\n",
        "    X_train = pd.DataFrame(scaler.fit_transform(X_train), index=X_train.index, columns=X_train.columns)\n",
        "    X_test = pd.DataFrame(scaler.transform(X_test), index=X_test.index, columns=X_test.columns)\n",
        "    \n",
        "    return X_train, X_test, y_train, y_test"
      ]
    },
    {
      "cell_type": "code",
      "execution_count": 5,
      "metadata": {
        "colab": {
          "base_uri": "https://localhost:8080/",
          "height": 522
        },
        "id": "a0CmBkmFyWZk",
        "outputId": "772cf0cf-f608-4d63-e9a6-5998ad75b153"
      },
      "outputs": [
        {
          "data": {
            "text/html": [
              "<div>\n",
              "<style scoped>\n",
              "    .dataframe tbody tr th:only-of-type {\n",
              "        vertical-align: middle;\n",
              "    }\n",
              "\n",
              "    .dataframe tbody tr th {\n",
              "        vertical-align: top;\n",
              "    }\n",
              "\n",
              "    .dataframe thead th {\n",
              "        text-align: right;\n",
              "    }\n",
              "</style>\n",
              "<table border=\"1\" class=\"dataframe\">\n",
              "  <thead>\n",
              "    <tr style=\"text-align: right;\">\n",
              "      <th></th>\n",
              "      <th>Temperature (K)</th>\n",
              "      <th>Luminosity(L/Lo)</th>\n",
              "      <th>Radius(R/Ro)</th>\n",
              "      <th>Absolute magnitude(Mv)</th>\n",
              "      <th>Color_Blue</th>\n",
              "      <th>Color_Blue White</th>\n",
              "      <th>Color_Orange</th>\n",
              "      <th>Color_Orange-Red</th>\n",
              "      <th>Color_Pale yellow orange</th>\n",
              "      <th>Color_Red</th>\n",
              "      <th>...</th>\n",
              "      <th>Color_Whitish</th>\n",
              "      <th>Color_Yellowish</th>\n",
              "      <th>Color_Yellowish White</th>\n",
              "      <th>Class_A</th>\n",
              "      <th>Class_B</th>\n",
              "      <th>Class_F</th>\n",
              "      <th>Class_G</th>\n",
              "      <th>Class_K</th>\n",
              "      <th>Class_M</th>\n",
              "      <th>Class_O</th>\n",
              "    </tr>\n",
              "  </thead>\n",
              "  <tbody>\n",
              "    <tr>\n",
              "      <th>61</th>\n",
              "      <td>-0.710590</td>\n",
              "      <td>-0.607428</td>\n",
              "      <td>-0.458255</td>\n",
              "      <td>1.153147</td>\n",
              "      <td>-0.549841</td>\n",
              "      <td>-0.418121</td>\n",
              "      <td>-0.109764</td>\n",
              "      <td>0.0</td>\n",
              "      <td>-0.077382</td>\n",
              "      <td>1.036375</td>\n",
              "      <td>...</td>\n",
              "      <td>-0.077382</td>\n",
              "      <td>-0.109764</td>\n",
              "      <td>-0.223607</td>\n",
              "      <td>-0.324443</td>\n",
              "      <td>-0.456764</td>\n",
              "      <td>-0.27735</td>\n",
              "      <td>0.0</td>\n",
              "      <td>-0.134840</td>\n",
              "      <td>1.024100</td>\n",
              "      <td>-0.4279</td>\n",
              "    </tr>\n",
              "    <tr>\n",
              "      <th>210</th>\n",
              "      <td>1.368814</td>\n",
              "      <td>-0.532507</td>\n",
              "      <td>-0.446344</td>\n",
              "      <td>-0.799426</td>\n",
              "      <td>-0.549841</td>\n",
              "      <td>2.391652</td>\n",
              "      <td>-0.109764</td>\n",
              "      <td>0.0</td>\n",
              "      <td>-0.077382</td>\n",
              "      <td>-0.964901</td>\n",
              "      <td>...</td>\n",
              "      <td>-0.077382</td>\n",
              "      <td>-0.109764</td>\n",
              "      <td>-0.223607</td>\n",
              "      <td>-0.324443</td>\n",
              "      <td>2.189316</td>\n",
              "      <td>-0.27735</td>\n",
              "      <td>0.0</td>\n",
              "      <td>-0.134840</td>\n",
              "      <td>-0.976467</td>\n",
              "      <td>-0.4279</td>\n",
              "    </tr>\n",
              "    <tr>\n",
              "      <th>52</th>\n",
              "      <td>-0.666403</td>\n",
              "      <td>1.029405</td>\n",
              "      <td>1.824986</td>\n",
              "      <td>-1.323333</td>\n",
              "      <td>-0.549841</td>\n",
              "      <td>-0.418121</td>\n",
              "      <td>-0.109764</td>\n",
              "      <td>0.0</td>\n",
              "      <td>-0.077382</td>\n",
              "      <td>1.036375</td>\n",
              "      <td>...</td>\n",
              "      <td>-0.077382</td>\n",
              "      <td>-0.109764</td>\n",
              "      <td>-0.223607</td>\n",
              "      <td>-0.324443</td>\n",
              "      <td>-0.456764</td>\n",
              "      <td>-0.27735</td>\n",
              "      <td>0.0</td>\n",
              "      <td>-0.134840</td>\n",
              "      <td>1.024100</td>\n",
              "      <td>-0.4279</td>\n",
              "    </tr>\n",
              "    <tr>\n",
              "      <th>66</th>\n",
              "      <td>-0.764119</td>\n",
              "      <td>-0.607428</td>\n",
              "      <td>-0.458442</td>\n",
              "      <td>1.285781</td>\n",
              "      <td>-0.549841</td>\n",
              "      <td>-0.418121</td>\n",
              "      <td>-0.109764</td>\n",
              "      <td>0.0</td>\n",
              "      <td>-0.077382</td>\n",
              "      <td>1.036375</td>\n",
              "      <td>...</td>\n",
              "      <td>-0.077382</td>\n",
              "      <td>-0.109764</td>\n",
              "      <td>-0.223607</td>\n",
              "      <td>-0.324443</td>\n",
              "      <td>-0.456764</td>\n",
              "      <td>-0.27735</td>\n",
              "      <td>0.0</td>\n",
              "      <td>-0.134840</td>\n",
              "      <td>1.024100</td>\n",
              "      <td>-0.4279</td>\n",
              "    </tr>\n",
              "    <tr>\n",
              "      <th>26</th>\n",
              "      <td>-0.145838</td>\n",
              "      <td>-0.607428</td>\n",
              "      <td>-0.458603</td>\n",
              "      <td>0.893562</td>\n",
              "      <td>-0.549841</td>\n",
              "      <td>2.391652</td>\n",
              "      <td>-0.109764</td>\n",
              "      <td>0.0</td>\n",
              "      <td>-0.077382</td>\n",
              "      <td>-0.964901</td>\n",
              "      <td>...</td>\n",
              "      <td>-0.077382</td>\n",
              "      <td>-0.109764</td>\n",
              "      <td>-0.223607</td>\n",
              "      <td>3.082207</td>\n",
              "      <td>-0.456764</td>\n",
              "      <td>-0.27735</td>\n",
              "      <td>0.0</td>\n",
              "      <td>-0.134840</td>\n",
              "      <td>-0.976467</td>\n",
              "      <td>-0.4279</td>\n",
              "    </tr>\n",
              "    <tr>\n",
              "      <th>...</th>\n",
              "      <td>...</td>\n",
              "      <td>...</td>\n",
              "      <td>...</td>\n",
              "      <td>...</td>\n",
              "      <td>...</td>\n",
              "      <td>...</td>\n",
              "      <td>...</td>\n",
              "      <td>...</td>\n",
              "      <td>...</td>\n",
              "      <td>...</td>\n",
              "      <td>...</td>\n",
              "      <td>...</td>\n",
              "      <td>...</td>\n",
              "      <td>...</td>\n",
              "      <td>...</td>\n",
              "      <td>...</td>\n",
              "      <td>...</td>\n",
              "      <td>...</td>\n",
              "      <td>...</td>\n",
              "      <td>...</td>\n",
              "      <td>...</td>\n",
              "    </tr>\n",
              "    <tr>\n",
              "      <th>67</th>\n",
              "      <td>-0.778189</td>\n",
              "      <td>-0.607428</td>\n",
              "      <td>-0.458445</td>\n",
              "      <td>1.106725</td>\n",
              "      <td>-0.549841</td>\n",
              "      <td>-0.418121</td>\n",
              "      <td>-0.109764</td>\n",
              "      <td>0.0</td>\n",
              "      <td>-0.077382</td>\n",
              "      <td>1.036375</td>\n",
              "      <td>...</td>\n",
              "      <td>-0.077382</td>\n",
              "      <td>-0.109764</td>\n",
              "      <td>-0.223607</td>\n",
              "      <td>-0.324443</td>\n",
              "      <td>-0.456764</td>\n",
              "      <td>-0.27735</td>\n",
              "      <td>0.0</td>\n",
              "      <td>-0.134840</td>\n",
              "      <td>1.024100</td>\n",
              "      <td>-0.4279</td>\n",
              "    </tr>\n",
              "    <tr>\n",
              "      <th>192</th>\n",
              "      <td>-0.758733</td>\n",
              "      <td>-0.607428</td>\n",
              "      <td>-0.458081</td>\n",
              "      <td>0.822507</td>\n",
              "      <td>-0.549841</td>\n",
              "      <td>-0.418121</td>\n",
              "      <td>-0.109764</td>\n",
              "      <td>0.0</td>\n",
              "      <td>-0.077382</td>\n",
              "      <td>1.036375</td>\n",
              "      <td>...</td>\n",
              "      <td>-0.077382</td>\n",
              "      <td>-0.109764</td>\n",
              "      <td>-0.223607</td>\n",
              "      <td>-0.324443</td>\n",
              "      <td>-0.456764</td>\n",
              "      <td>-0.27735</td>\n",
              "      <td>0.0</td>\n",
              "      <td>-0.134840</td>\n",
              "      <td>1.024100</td>\n",
              "      <td>-0.4279</td>\n",
              "    </tr>\n",
              "    <tr>\n",
              "      <th>117</th>\n",
              "      <td>-0.689376</td>\n",
              "      <td>-0.162113</td>\n",
              "      <td>1.232368</td>\n",
              "      <td>-1.422809</td>\n",
              "      <td>-0.549841</td>\n",
              "      <td>-0.418121</td>\n",
              "      <td>-0.109764</td>\n",
              "      <td>0.0</td>\n",
              "      <td>-0.077382</td>\n",
              "      <td>1.036375</td>\n",
              "      <td>...</td>\n",
              "      <td>-0.077382</td>\n",
              "      <td>-0.109764</td>\n",
              "      <td>-0.223607</td>\n",
              "      <td>-0.324443</td>\n",
              "      <td>-0.456764</td>\n",
              "      <td>-0.27735</td>\n",
              "      <td>0.0</td>\n",
              "      <td>-0.134840</td>\n",
              "      <td>1.024100</td>\n",
              "      <td>-0.4279</td>\n",
              "    </tr>\n",
              "    <tr>\n",
              "      <th>47</th>\n",
              "      <td>-0.694982</td>\n",
              "      <td>0.596125</td>\n",
              "      <td>-0.286820</td>\n",
              "      <td>-0.948166</td>\n",
              "      <td>-0.549841</td>\n",
              "      <td>-0.418121</td>\n",
              "      <td>-0.109764</td>\n",
              "      <td>0.0</td>\n",
              "      <td>-0.077382</td>\n",
              "      <td>1.036375</td>\n",
              "      <td>...</td>\n",
              "      <td>-0.077382</td>\n",
              "      <td>-0.109764</td>\n",
              "      <td>-0.223607</td>\n",
              "      <td>-0.324443</td>\n",
              "      <td>-0.456764</td>\n",
              "      <td>-0.27735</td>\n",
              "      <td>0.0</td>\n",
              "      <td>-0.134840</td>\n",
              "      <td>1.024100</td>\n",
              "      <td>-0.4279</td>\n",
              "    </tr>\n",
              "    <tr>\n",
              "      <th>172</th>\n",
              "      <td>-0.616611</td>\n",
              "      <td>3.183765</td>\n",
              "      <td>2.079792</td>\n",
              "      <td>-1.323333</td>\n",
              "      <td>-0.549841</td>\n",
              "      <td>-0.418121</td>\n",
              "      <td>9.110434</td>\n",
              "      <td>0.0</td>\n",
              "      <td>-0.077382</td>\n",
              "      <td>-0.964901</td>\n",
              "      <td>...</td>\n",
              "      <td>-0.077382</td>\n",
              "      <td>-0.109764</td>\n",
              "      <td>-0.223607</td>\n",
              "      <td>-0.324443</td>\n",
              "      <td>-0.456764</td>\n",
              "      <td>-0.27735</td>\n",
              "      <td>0.0</td>\n",
              "      <td>7.416198</td>\n",
              "      <td>-0.976467</td>\n",
              "      <td>-0.4279</td>\n",
              "    </tr>\n",
              "  </tbody>\n",
              "</table>\n",
              "<p>168 rows × 21 columns</p>\n",
              "</div>"
            ],
            "text/plain": [
              "     Temperature (K)  Luminosity(L/Lo)  Radius(R/Ro)  Absolute magnitude(Mv)  \\\n",
              "61         -0.710590         -0.607428     -0.458255                1.153147   \n",
              "210         1.368814         -0.532507     -0.446344               -0.799426   \n",
              "52         -0.666403          1.029405      1.824986               -1.323333   \n",
              "66         -0.764119         -0.607428     -0.458442                1.285781   \n",
              "26         -0.145838         -0.607428     -0.458603                0.893562   \n",
              "..               ...               ...           ...                     ...   \n",
              "67         -0.778189         -0.607428     -0.458445                1.106725   \n",
              "192        -0.758733         -0.607428     -0.458081                0.822507   \n",
              "117        -0.689376         -0.162113      1.232368               -1.422809   \n",
              "47         -0.694982          0.596125     -0.286820               -0.948166   \n",
              "172        -0.616611          3.183765      2.079792               -1.323333   \n",
              "\n",
              "     Color_Blue  Color_Blue White  Color_Orange  Color_Orange-Red  \\\n",
              "61    -0.549841         -0.418121     -0.109764               0.0   \n",
              "210   -0.549841          2.391652     -0.109764               0.0   \n",
              "52    -0.549841         -0.418121     -0.109764               0.0   \n",
              "66    -0.549841         -0.418121     -0.109764               0.0   \n",
              "26    -0.549841          2.391652     -0.109764               0.0   \n",
              "..          ...               ...           ...               ...   \n",
              "67    -0.549841         -0.418121     -0.109764               0.0   \n",
              "192   -0.549841         -0.418121     -0.109764               0.0   \n",
              "117   -0.549841         -0.418121     -0.109764               0.0   \n",
              "47    -0.549841         -0.418121     -0.109764               0.0   \n",
              "172   -0.549841         -0.418121      9.110434               0.0   \n",
              "\n",
              "     Color_Pale yellow orange  Color_Red  ...  Color_Whitish  Color_Yellowish  \\\n",
              "61                  -0.077382   1.036375  ...      -0.077382        -0.109764   \n",
              "210                 -0.077382  -0.964901  ...      -0.077382        -0.109764   \n",
              "52                  -0.077382   1.036375  ...      -0.077382        -0.109764   \n",
              "66                  -0.077382   1.036375  ...      -0.077382        -0.109764   \n",
              "26                  -0.077382  -0.964901  ...      -0.077382        -0.109764   \n",
              "..                        ...        ...  ...            ...              ...   \n",
              "67                  -0.077382   1.036375  ...      -0.077382        -0.109764   \n",
              "192                 -0.077382   1.036375  ...      -0.077382        -0.109764   \n",
              "117                 -0.077382   1.036375  ...      -0.077382        -0.109764   \n",
              "47                  -0.077382   1.036375  ...      -0.077382        -0.109764   \n",
              "172                 -0.077382  -0.964901  ...      -0.077382        -0.109764   \n",
              "\n",
              "     Color_Yellowish White   Class_A   Class_B  Class_F  Class_G   Class_K  \\\n",
              "61               -0.223607 -0.324443 -0.456764 -0.27735      0.0 -0.134840   \n",
              "210              -0.223607 -0.324443  2.189316 -0.27735      0.0 -0.134840   \n",
              "52               -0.223607 -0.324443 -0.456764 -0.27735      0.0 -0.134840   \n",
              "66               -0.223607 -0.324443 -0.456764 -0.27735      0.0 -0.134840   \n",
              "26               -0.223607  3.082207 -0.456764 -0.27735      0.0 -0.134840   \n",
              "..                     ...       ...       ...      ...      ...       ...   \n",
              "67               -0.223607 -0.324443 -0.456764 -0.27735      0.0 -0.134840   \n",
              "192              -0.223607 -0.324443 -0.456764 -0.27735      0.0 -0.134840   \n",
              "117              -0.223607 -0.324443 -0.456764 -0.27735      0.0 -0.134840   \n",
              "47               -0.223607 -0.324443 -0.456764 -0.27735      0.0 -0.134840   \n",
              "172              -0.223607 -0.324443 -0.456764 -0.27735      0.0  7.416198   \n",
              "\n",
              "      Class_M  Class_O  \n",
              "61   1.024100  -0.4279  \n",
              "210 -0.976467  -0.4279  \n",
              "52   1.024100  -0.4279  \n",
              "66   1.024100  -0.4279  \n",
              "26  -0.976467  -0.4279  \n",
              "..        ...      ...  \n",
              "67   1.024100  -0.4279  \n",
              "192  1.024100  -0.4279  \n",
              "117  1.024100  -0.4279  \n",
              "47   1.024100  -0.4279  \n",
              "172 -0.976467  -0.4279  \n",
              "\n",
              "[168 rows x 21 columns]"
            ]
          },
          "execution_count": 5,
          "metadata": {},
          "output_type": "execute_result"
        }
      ],
      "source": [
        "X_train, X_test, y_train, y_test = preprocess_inputs(train_data)\n",
        "X_train"
      ]
    },
    {
      "cell_type": "markdown",
      "metadata": {
        "id": "GX9qNtdyMptw"
      },
      "source": [
        "# IMPORT LIBRARY"
      ]
    },
    {
      "cell_type": "code",
      "execution_count": 6,
      "metadata": {
        "id": "qgDtCfH60vL2"
      },
      "outputs": [],
      "source": [
        "from sklearn.svm import SVC\n",
        "\n",
        "\n",
        "# import metrics to compute accuracy\n",
        "from sklearn.metrics import accuracy_score\n",
        "from sklearn.metrics import precision_score\n",
        "from sklearn.metrics import classification_report\n",
        "\n",
        "\n"
      ]
    },
    {
      "cell_type": "markdown",
      "metadata": {
        "id": "8P6Vs_luOHWI"
      },
      "source": [
        "# SVM (kernel = RBF)"
      ]
    },
    {
      "cell_type": "code",
      "execution_count": 7,
      "metadata": {
        "colab": {
          "base_uri": "https://localhost:8080/"
        },
        "id": "HicpHBIO05-P",
        "outputId": "be77912d-e11a-4980-e23f-f3525dcefc66"
      },
      "outputs": [
        {
          "name": "stdout",
          "output_type": "stream",
          "text": [
            "RBF Kernel Accuracy:\n",
            "C = 0.1\n",
            "Akurasi: 0.4861111111111111\n",
            "Presisi: 0.4861111111111111\n",
            "\n",
            "\n",
            "C = 0.5\n",
            "Akurasi: 0.75\n",
            "Presisi: 0.75\n",
            "\n",
            "\n",
            "C = 1\n",
            "Akurasi: 0.8194444444444444\n",
            "Presisi: 0.8194444444444444\n",
            "\n",
            "\n",
            "C = 10\n",
            "Akurasi: 0.9444444444444444\n",
            "Presisi: 0.9444444444444444\n",
            "\n",
            "\n",
            "C = 50\n",
            "Akurasi: 0.9722222222222222\n",
            "Presisi: 0.9722222222222222\n",
            "\n",
            "\n",
            "C = 100\n",
            "Akurasi: 0.9722222222222222\n",
            "Presisi: 0.9722222222222222\n",
            "\n",
            "\n"
          ]
        }
      ],
      "source": [
        "C = [0.1 ,0.5,1,10,50,100]\n",
        "rbf_acc = []\n",
        "rbf_pre = []\n",
        "print(\"RBF Kernel Accuracy:\")\n",
        "for num in C:\n",
        "  svc=SVC(kernel='rbf',C=num) \n",
        "\n",
        "  # fit classifier to training set\n",
        "  svc.fit(X_train,y_train)\n",
        "\n",
        "  # make predictions on test set\n",
        "  y_pred=svc.predict(X_test)\n",
        "\n",
        "  # compute and print accuracy score\n",
        "  print(\"C = \" + str(num))\n",
        "  print(\"Akurasi: \"+ format(accuracy_score(y_test, y_pred)) )\n",
        "  print(\"Presisi: \"+ format(precision_score(y_test, y_pred,  average='micro')) )\n",
        "  print(\"\\n\")\n",
        "  rbf_acc.append(accuracy_score(y_test, y_pred)*100)\n",
        "  rbf_pre.append(precision_score(y_test, y_pred,  average='micro')*100)\n"
      ]
    },
    {
      "cell_type": "markdown",
      "metadata": {
        "id": "_HHmIZYSe1-S"
      },
      "source": [
        "## Grafik pengujian kernel RBF"
      ]
    },
    {
      "cell_type": "code",
      "execution_count": 8,
      "metadata": {
        "colab": {
          "base_uri": "https://localhost:8080/",
          "height": 295
        },
        "id": "KxbilK6R1Dfy",
        "outputId": "32fbbab7-592f-4fa8-95bb-e502fc9bd2d1"
      },
      "outputs": [
        {
          "data": {
            "image/png": "[encoded data removed]",
            "text/plain": [
              "<Figure size 640x480 with 1 Axes>"
            ]
          },
          "metadata": {},
          "output_type": "display_data"
        }
      ],
      "source": [
        "import matplotlib.pyplot as plt\n",
        "\n",
        "x_axis = ['0.1', '0.5', '1', '10', '50', '100']\n",
        "y_axis = rbf_acc\n",
        "\n",
        "plt.plot(x_axis, y_axis,'-bo',label='Akurasi')\n",
        "plt.title('Pengujian Akurasi Kernel RBF')\n",
        "plt.xlabel('Nilai C')\n",
        "plt.ylabel('Presentase (%)')\n",
        "plt.show()"
      ]
    },
    {
      "cell_type": "markdown",
      "metadata": {
        "id": "hx1PaKl5f_e5"
      },
      "source": [
        "# SVM (kernel = linear)\n",
        "\n"
      ]
    },
    {
      "cell_type": "code",
      "execution_count": 9,
      "metadata": {
        "colab": {
          "base_uri": "https://localhost:8080/"
        },
        "id": "M0-5oCNLgCVC",
        "outputId": "611d994d-aa99-47c9-e43a-6512432baf5d"
      },
      "outputs": [
        {
          "name": "stdout",
          "output_type": "stream",
          "text": [
            "Linear Kernel Accuracy:\n",
            "C = 0.1\n",
            "Akurasi: 0.8194444444444444\n",
            "Presisi: 0.8194444444444444\n",
            "\n",
            "\n",
            "C = 0.5\n",
            "Akurasi: 0.9166666666666666\n",
            "Presisi: 0.9166666666666666\n",
            "\n",
            "\n",
            "C = 1\n",
            "Akurasi: 0.9583333333333334\n",
            "Presisi: 0.9583333333333334\n",
            "\n",
            "\n",
            "C = 10\n",
            "Akurasi: 0.9583333333333334\n",
            "Presisi: 0.9583333333333334\n",
            "\n",
            "\n",
            "C = 50\n",
            "Akurasi: 0.9583333333333334\n",
            "Presisi: 0.9583333333333334\n",
            "\n",
            "\n",
            "C = 100\n",
            "Akurasi: 0.9583333333333334\n",
            "Presisi: 0.9583333333333334\n",
            "\n",
            "\n"
          ]
        }
      ],
      "source": [
        "C = [0.1 ,0.5,1,10,50,100]\n",
        "linear_acc = []\n",
        "linear_pre = []\n",
        "print(\"Linear Kernel Accuracy:\")\n",
        "for num in C:\n",
        "  svc=SVC(kernel='linear',C=num) \n",
        "\n",
        "  # fit classifier to training set\n",
        "  svc.fit(X_train,y_train)\n",
        "\n",
        "  # make predictions on test set\n",
        "  y_pred=svc.predict(X_test)\n",
        "\n",
        "  # compute and print accuracy score\n",
        "  print(\"C = \" + str(num))\n",
        "  print(\"Akurasi: \"+ format(accuracy_score(y_test, y_pred)) )\n",
        "  print(\"Presisi: \"+ format(precision_score(y_test, y_pred,  average='micro')) )\n",
        "  print(\"\\n\")\n",
        "  linear_acc.append(accuracy_score(y_test, y_pred)*100)\n",
        "  linear_pre.append(precision_score(y_test, y_pred,  average='micro')*100)\n"
      ]
    },
    {
      "cell_type": "markdown",
      "metadata": {
        "id": "cwssG3TkgH-a"
      },
      "source": [
        "## Grafik Pengujian Kernel Linear"
      ]
    },
    {
      "cell_type": "code",
      "execution_count": 10,
      "metadata": {
        "colab": {
          "base_uri": "https://localhost:8080/",
          "height": 295
        },
        "id": "6i7nADUvgKr1",
        "outputId": "da799a09-d332-483e-a52c-4e9be5fb2046"
      },
      "outputs": [
        {
          "data": {
            "image/png": "[encoded data removed]",
            "text/plain": [
              "<Figure size 640x480 with 1 Axes>"
            ]
          },
          "metadata": {},
          "output_type": "display_data"
        }
      ],
      "source": [
        "import matplotlib.pyplot as plt\n",
        "\n",
        "x_axis = ['0.1', '0.5', '1', '10', '50', '100']\n",
        "y_axis = linear_acc\n",
        "\n",
        "plt.plot(x_axis, y_axis,'-bo',label='Akurasi')\n",
        "plt.title('Pengujian Akurasi Kernel Linear')\n",
        "plt.xlabel('Nilai C')\n",
        "plt.ylabel('Presentase (%)')\n",
        "plt.show()"
      ]
    },
    {
      "cell_type": "markdown",
      "metadata": {
        "id": "7H_eWztegTE7"
      },
      "source": [
        "# SVM (kernel = polynomial)"
      ]
    },
    {
      "cell_type": "code",
      "execution_count": 11,
      "metadata": {
        "colab": {
          "base_uri": "https://localhost:8080/"
        },
        "id": "j0yTWBiWhr-c",
        "outputId": "fdfc06ad-e960-4977-9375-97847aca3e5f"
      },
      "outputs": [
        {
          "name": "stdout",
          "output_type": "stream",
          "text": [
            "Polynomial Kernel Accuracy:\n",
            "C = 0.1\n",
            "Akurasi: 0.2777777777777778\n",
            "Presisi: 0.2777777777777778\n",
            "\n",
            "\n",
            "C = 0.5\n",
            "Akurasi: 0.7083333333333334\n",
            "Presisi: 0.7083333333333334\n",
            "\n",
            "\n",
            "C = 1\n",
            "Akurasi: 0.7361111111111112\n",
            "Presisi: 0.7361111111111112\n",
            "\n",
            "\n",
            "C = 10\n",
            "Akurasi: 0.9583333333333334\n",
            "Presisi: 0.9583333333333334\n",
            "\n",
            "\n",
            "C = 50\n",
            "Akurasi: 0.9305555555555556\n",
            "Presisi: 0.9305555555555556\n",
            "\n",
            "\n",
            "C = 100\n",
            "Akurasi: 0.9583333333333334\n",
            "Presisi: 0.9583333333333334\n",
            "\n",
            "\n"
          ]
        }
      ],
      "source": [
        "C = [0.1 ,0.5,1,10,50,100]\n",
        "poly_acc = []\n",
        "poly_pre = []\n",
        "print(\"Polynomial Kernel Accuracy:\")\n",
        "for num in C:\n",
        "  svc=SVC(kernel='poly',C=num) \n",
        "\n",
        "  # fit classifier to training set\n",
        "  svc.fit(X_train,y_train)\n",
        "\n",
        "  # make predictions on test set\n",
        "  y_pred=svc.predict(X_test)\n",
        "\n",
        "  # compute and print accuracy score\n",
        "  print(\"C = \" + str(num))\n",
        "  print(\"Akurasi: \"+ format(accuracy_score(y_test, y_pred)) )\n",
        "  print(\"Presisi: \"+ format(precision_score(y_test, y_pred,  average='micro')) )\n",
        "  print(\"\\n\")\n",
        "  poly_acc.append(accuracy_score(y_test, y_pred)*100)\n",
        "  poly_pre.append(precision_score(y_test, y_pred,  average='micro')*100)\n"
      ]
    },
    {
      "cell_type": "markdown",
      "metadata": {
        "id": "gKZsq61ehzzK"
      },
      "source": [
        "## Grafik Pengujian Kernel Polynomial"
      ]
    },
    {
      "cell_type": "code",
      "execution_count": 12,
      "metadata": {
        "colab": {
          "base_uri": "https://localhost:8080/",
          "height": 295
        },
        "id": "mE8iEp7dh2ja",
        "outputId": "50013e15-9f61-4c5a-e4f6-3fc7e2c38109"
      },
      "outputs": [
        {
          "data": {
            "image/png": "[encoded data removed]",
            "text/plain": [
              "<Figure size 640x480 with 1 Axes>"
            ]
          },
          "metadata": {},
          "output_type": "display_data"
        }
      ],
      "source": [
        "import matplotlib.pyplot as plt\n",
        "\n",
        "x_axis = ['0.1', '0.5', '1', '10', '50', '100']\n",
        "y_axis = poly_acc\n",
        "\n",
        "plt.plot(x_axis, y_axis,'-bo',label='Akurasi')\n",
        "plt.title('Pengujian Akurasi Kernel Polynomial')\n",
        "plt.xlabel('Nilai C')\n",
        "plt.ylabel('Presentase (%)')\n",
        "plt.show()"
      ]
    },
    {
      "cell_type": "markdown",
      "metadata": {
        "id": "RahgLtGhiMwu"
      },
      "source": [
        "# SVM (kernel = sigmoid)"
      ]
    },
    {
      "cell_type": "code",
      "execution_count": 13,
      "metadata": {
        "colab": {
          "base_uri": "https://localhost:8080/"
        },
        "id": "uEHNQG4ziLzB",
        "outputId": "a78a0317-e8a7-4fa4-ca2b-326ed3fcfe28"
      },
      "outputs": [
        {
          "name": "stdout",
          "output_type": "stream",
          "text": [
            "Sigmoid Kernel Accuracy:\n",
            "C = 0.1\n",
            "Akurasi: 0.5277777777777778\n",
            "Presisi: 0.5277777777777778\n",
            "\n",
            "\n",
            "C = 0.5\n",
            "Akurasi: 0.75\n",
            "Presisi: 0.75\n",
            "\n",
            "\n",
            "C = 1\n",
            "Akurasi: 0.7777777777777778\n",
            "Presisi: 0.7777777777777778\n",
            "\n",
            "\n",
            "C = 10\n",
            "Akurasi: 0.9166666666666666\n",
            "Presisi: 0.9166666666666666\n",
            "\n",
            "\n",
            "C = 50\n",
            "Akurasi: 0.9305555555555556\n",
            "Presisi: 0.9305555555555556\n",
            "\n",
            "\n",
            "C = 100\n",
            "Akurasi: 0.9583333333333334\n",
            "Presisi: 0.9583333333333334\n",
            "\n",
            "\n"
          ]
        }
      ],
      "source": [
        "C = [0.1 ,0.5,1,10,50,100]\n",
        "sig_acc = []\n",
        "sig_pre = []\n",
        "print(\"Sigmoid Kernel Accuracy:\")\n",
        "for num in C:\n",
        "  svc=SVC(kernel='sigmoid',C=num) \n",
        "\n",
        "  # fit classifier to training set\n",
        "  svc.fit(X_train,y_train)\n",
        "\n",
        "  # make predictions on test set\n",
        "  y_pred=svc.predict(X_test)\n",
        "\n",
        "  # compute and print accuracy score\n",
        "  print(\"C = \" + str(num))\n",
        "  print(\"Akurasi: \"+ format(accuracy_score(y_test, y_pred)) )\n",
        "  print(\"Presisi: \"+ format(precision_score(y_test, y_pred,  average='micro')) )\n",
        "  print(\"\\n\")\n",
        "  sig_acc.append(accuracy_score(y_test, y_pred)*100)\n",
        "  sig_pre.append(precision_score(y_test, y_pred,  average='micro')*100)\n"
      ]
    },
    {
      "cell_type": "markdown",
      "metadata": {
        "id": "5bZ6b5LljshN"
      },
      "source": [
        "## Grafik Pengujian Kernel Sigmoid"
      ]
    },
    {
      "cell_type": "code",
      "execution_count": 14,
      "metadata": {
        "colab": {
          "base_uri": "https://localhost:8080/",
          "height": 295
        },
        "id": "nel1Eyp8jxqP",
        "outputId": "eb32b53e-b736-4ee8-f5a9-2e1c17a7cf31"
      },
      "outputs": [
        {
          "data": {
            "image/png": "[encoded data removed]",
            "text/plain": [
              "<Figure size 640x480 with 1 Axes>"
            ]
          },
          "metadata": {},
          "output_type": "display_data"
        }
      ],
      "source": [
        "import matplotlib.pyplot as plt\n",
        "\n",
        "x_axis = ['0.1', '0.5', '1', '10', '50', '100']\n",
        "y_axis = sig_acc\n",
        "\n",
        "plt.plot(x_axis, y_axis,'-bo',label='Akurasi')\n",
        "plt.title('Pengujian Akurasi Kernel Sigmoid')\n",
        "plt.xlabel('Nilai C')\n",
        "plt.ylabel('Presentase (%)')\n",
        "plt.show()"
      ]
    },
    {
      "cell_type": "code",
      "execution_count": 15,
      "metadata": {
        "colab": {
          "base_uri": "https://localhost:8080/"
        },
        "id": "l1Y2vgUTlYVc",
        "outputId": "83b1fafa-6e2f-4ecc-82cc-4cc4ee533b21"
      },
      "outputs": [
        {
          "name": "stdout",
          "output_type": "stream",
          "text": [
            "[48.61111111111111, 75.0, 81.94444444444444, 94.44444444444444, 97.22222222222221, 97.22222222222221]\n",
            "[81.94444444444444, 91.66666666666666, 95.83333333333334, 95.83333333333334, 95.83333333333334, 95.83333333333334]\n",
            "[27.77777777777778, 70.83333333333334, 73.61111111111111, 95.83333333333334, 93.05555555555556, 95.83333333333334]\n",
            "[52.77777777777778, 75.0, 77.77777777777779, 91.66666666666666, 93.05555555555556, 95.83333333333334]\n"
          ]
        }
      ],
      "source": [
        "print(rbf_acc)\n",
        "print(linear_acc)\n",
        "print(poly_acc)\n",
        "print(sig_acc)"
      ]
    },
    {
      "cell_type": "markdown",
      "metadata": {
        "id": "nsLS5nSZmSGu"
      },
      "source": [
        "# Kesimpulan\n",
        "Dari hasil SVM menggunaan kernel rbf, didapatkan akurasi tertinggi yaitu 97.22% ketika nilai C=50 dan C=100. Sedangkan akurasi terendah yaitu 48.61% ketika C = 0.1\n",
        "\n",
        "Dari hasil kernel linear, didapatkan akurasi tertinggi yaitu 95.83% ketika C = 1, 10, 50, dan 100. Sedangkan akurasi terendah yaitu 81.94% ketika C = 0.1\n",
        "\n",
        "Dari hasil kernel polynomial, didapatkan akurasi tertinggi yaitu 95.83% ketika C = 10 dan C = 100. Sedangkan akurasi terendah yaitu 27.78% ketika C = 0.1\n",
        "\n",
        "Dari hasil kernel sigmoid, didapatkan akurasi tertinggi yaitu 95.83% ketika C = 100. Sedangkan akurasi terendah yaitu 52.78% ketika C = 0.1\n",
        "\n",
        "Dari keempat jenis kernel yang diuji dan lima nilai C, didapatkan bahwa akurasi tertinggi **yaitu 97.22% dengan menggunakan kernel jenis RBF dengan nilai C = 50 dan C = 100**. "
      ]
    }
  ],
  "metadata": {
    "colab": {
      "provenance": []
    },
    "kernelspec": {
      "display_name": "env",
      "language": "python",
      "name": "python3"
    },
    "language_info": {
      "codemirror_mode": {
        "name": "ipython",
        "version": 3
      },
      "file_extension": ".py",
      "mimetype": "text/x-python",
      "name": "python",
      "nbconvert_exporter": "python",
      "pygments_lexer": "ipython3",
      "version": "3.9.7 (tags/v3.9.7:1016ef3, Aug 30 2021, 20:19:38) [MSC v.1929 64 bit (AMD64)]"
    },
    "vscode": {
      "interpreter": {
        "hash": "3080204b046446c1dd7514a92f20fcc5e6ac6a381f17ffe49595e0d1210d591c"
      }
    }
  },
  "nbformat": 4,
  "nbformat_minor": 0
}
